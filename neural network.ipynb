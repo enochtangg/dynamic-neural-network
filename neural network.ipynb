{
 "cells": [
  {
   "cell_type": "code",
   "execution_count": 54,
   "metadata": {},
   "outputs": [],
   "source": [
    "# Import all packages and libraries for NN\n",
    "\n",
    "from keras.models import Sequential\n",
    "from sklearn.utils import shuffle\n",
    "\n",
    "import keras\n",
    "import pandas\n",
    "import numpy\n"
   ]
  },
  {
   "cell_type": "code",
   "execution_count": 55,
   "metadata": {},
   "outputs": [],
   "source": [
    "# Data Processing\n",
    "# Preparing Iris dataset for usage as a dataframe\n",
    "# Mapping labels to certain integers\n",
    "# Shuffle rows randomly for variety\n",
    "# Spliting dataset to test and train dataframes. Test dataset will be 80% of entire dataframe.\n",
    "# Parsing dataframe to features and labels (x_train and y_train)\n",
    "\n",
    "\n",
    "_training_split = 0.8\n",
    "\n",
    "whole_df = pandas.read_csv('iris.csv')\n",
    "whole_df = shuffle(whole_df)\n",
    "\n",
    "mapping = {'setosa': 1, 'versicolor': 2, 'virginica': 3}\n",
    "for keys in mapping.keys():\n",
    "    whole_df = whole_df.replace(keys, mapping[keys])\n",
    "\n",
    "train_df = whole_df[:int(len(whole_df)*_training_split)]\n",
    "test_df = whole_df[int(len(whole_df)*_training_split):]\n",
    "\n",
    "headers = list(whole_df.columns.values)\n",
    "features = headers[:-1]\n",
    "labels = headers[-1]\n",
    "\n",
    "x_train = train_df[features].values\n",
    "y_train = train_df[labels].values\n"
   ]
  },
  {
   "cell_type": "code",
   "execution_count": null,
   "metadata": {},
   "outputs": [],
   "source": []
  }
 ],
 "metadata": {
  "kernelspec": {
   "display_name": "Python 3",
   "language": "python",
   "name": "python3"
  },
  "language_info": {
   "codemirror_mode": {
    "name": "ipython",
    "version": 3
   },
   "file_extension": ".py",
   "mimetype": "text/x-python",
   "name": "python",
   "nbconvert_exporter": "python",
   "pygments_lexer": "ipython3",
   "version": "3.6.4"
  }
 },
 "nbformat": 4,
 "nbformat_minor": 2
}
